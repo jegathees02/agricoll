{
 "cells": [
  {
   "cell_type": "code",
   "execution_count": 1,
   "metadata": {},
   "outputs": [],
   "source": [
    "import numpy as np\n",
    "import pandas as pd\n",
    "from sklearn.model_selection import train_test_split\n",
    "from tensorflow.keras.models import Model\n",
    "from tensorflow.keras.layers import Input, Dense, Concatenate, Flatten\n",
    "from tensorflow.keras.optimizers import Adam"
   ]
  },
  {
   "cell_type": "code",
   "execution_count": 2,
   "metadata": {},
   "outputs": [],
   "source": [
    "# Load the dataset\n",
    "data = pd.read_csv('Crop_recommendation.csv')"
   ]
  },
  {
   "cell_type": "code",
   "execution_count": 3,
   "metadata": {},
   "outputs": [],
   "source": [
    "# Split the dataset into input features and labels\n",
    "X = data[['N', 'P', 'K', 'temperature', 'humidity', 'ph', 'rainfall']]\n",
    "y = data['label']"
   ]
  },
  {
   "cell_type": "code",
   "execution_count": 13,
   "metadata": {},
   "outputs": [],
   "source": [
    "# Get list of unique labels\n",
    "unique_labels = y.unique().tolist()\n",
    "# print(unique_labels)"
   ]
  },
  {
   "cell_type": "code",
   "execution_count": 14,
   "metadata": {},
   "outputs": [],
   "source": [
    "# Create dictionary mapping of label index to label name\n",
    "label_map = {i: unique_labels[i] for i in range(len(unique_labels))}"
   ]
  },
  {
   "cell_type": "code",
   "execution_count": 15,
   "metadata": {},
   "outputs": [],
   "source": [
    "# Convert label names to label indices\n",
    "y = y.apply(lambda x: unique_labels.index(x))"
   ]
  },
  {
   "cell_type": "code",
   "execution_count": 16,
   "metadata": {},
   "outputs": [],
   "source": [
    "# Split the dataset into training and testing sets\n",
    "X_train, X_test, y_train, y_test = train_test_split(X, y, test_size=0.2, random_state=42)"
   ]
  },
  {
   "cell_type": "code",
   "execution_count": 17,
   "metadata": {},
   "outputs": [],
   "source": [
    "# Define the model architecture\n",
    "input_layer = Input(shape=(7,))\n",
    "hidden_layer1 = Dense(128, activation='relu')(input_layer)\n",
    "hidden_layer2 = Dense(64, activation='relu')(hidden_layer1)\n",
    "hidden_layer3 = Dense(32, activation='relu')(hidden_layer2)\n",
    "output_layer = Dense(len(unique_labels), activation='softmax')(hidden_layer3)"
   ]
  },
  {
   "cell_type": "code",
   "execution_count": 18,
   "metadata": {},
   "outputs": [],
   "source": [
    "model = Model(inputs=input_layer, outputs=output_layer)"
   ]
  },
  {
   "cell_type": "code",
   "execution_count": 19,
   "metadata": {},
   "outputs": [],
   "source": [
    "# Compile the model\n",
    "model.compile(optimizer=Adam(learning_rate=0.001), loss='sparse_categorical_crossentropy', metrics=['accuracy'])"
   ]
  },
  {
   "cell_type": "code",
   "execution_count": 20,
   "metadata": {},
   "outputs": [
    {
     "name": "stdout",
     "output_type": "stream",
     "text": [
      "Epoch 1/50\n",
      "55/55 [==============================] - 1s 5ms/step - loss: 3.5788 - accuracy: 0.3085 - val_loss: 1.3454 - val_accuracy: 0.5568\n",
      "Epoch 2/50\n",
      "55/55 [==============================] - 0s 2ms/step - loss: 0.9717 - accuracy: 0.7188 - val_loss: 0.7450 - val_accuracy: 0.7932\n",
      "Epoch 3/50\n",
      "55/55 [==============================] - 0s 2ms/step - loss: 0.4995 - accuracy: 0.8767 - val_loss: 0.4672 - val_accuracy: 0.8409\n",
      "Epoch 4/50\n",
      "55/55 [==============================] - 0s 2ms/step - loss: 0.3093 - accuracy: 0.9108 - val_loss: 0.3298 - val_accuracy: 0.9114\n",
      "Epoch 5/50\n",
      "55/55 [==============================] - 0s 2ms/step - loss: 0.2439 - accuracy: 0.9222 - val_loss: 0.2938 - val_accuracy: 0.8909\n",
      "Epoch 6/50\n",
      "55/55 [==============================] - 0s 2ms/step - loss: 0.1887 - accuracy: 0.9466 - val_loss: 0.2420 - val_accuracy: 0.9159\n",
      "Epoch 7/50\n",
      "55/55 [==============================] - 0s 2ms/step - loss: 0.1722 - accuracy: 0.9494 - val_loss: 0.2203 - val_accuracy: 0.9205\n",
      "Epoch 8/50\n",
      "55/55 [==============================] - 0s 2ms/step - loss: 0.1480 - accuracy: 0.9460 - val_loss: 0.2740 - val_accuracy: 0.8977\n",
      "Epoch 9/50\n",
      "55/55 [==============================] - 0s 2ms/step - loss: 0.1447 - accuracy: 0.9517 - val_loss: 0.2074 - val_accuracy: 0.9114\n",
      "Epoch 10/50\n",
      "55/55 [==============================] - 0s 2ms/step - loss: 0.1497 - accuracy: 0.9528 - val_loss: 0.2304 - val_accuracy: 0.9295\n",
      "Epoch 11/50\n",
      "55/55 [==============================] - 0s 2ms/step - loss: 0.1191 - accuracy: 0.9563 - val_loss: 0.1652 - val_accuracy: 0.9341\n",
      "Epoch 12/50\n",
      "55/55 [==============================] - 0s 2ms/step - loss: 0.1161 - accuracy: 0.9563 - val_loss: 0.1492 - val_accuracy: 0.9386\n",
      "Epoch 13/50\n",
      "55/55 [==============================] - 0s 2ms/step - loss: 0.1212 - accuracy: 0.9614 - val_loss: 0.2242 - val_accuracy: 0.9250\n",
      "Epoch 14/50\n",
      "55/55 [==============================] - 0s 2ms/step - loss: 0.1151 - accuracy: 0.9597 - val_loss: 0.1833 - val_accuracy: 0.9364\n",
      "Epoch 15/50\n",
      "55/55 [==============================] - 0s 2ms/step - loss: 0.1272 - accuracy: 0.9523 - val_loss: 0.1798 - val_accuracy: 0.9227\n",
      "Epoch 16/50\n",
      "55/55 [==============================] - 0s 2ms/step - loss: 0.1210 - accuracy: 0.9528 - val_loss: 0.1790 - val_accuracy: 0.9341\n",
      "Epoch 17/50\n",
      "55/55 [==============================] - 0s 2ms/step - loss: 0.1260 - accuracy: 0.9580 - val_loss: 0.1412 - val_accuracy: 0.9432\n",
      "Epoch 18/50\n",
      "55/55 [==============================] - 0s 2ms/step - loss: 0.0899 - accuracy: 0.9676 - val_loss: 0.1525 - val_accuracy: 0.9386\n",
      "Epoch 19/50\n",
      "55/55 [==============================] - 0s 3ms/step - loss: 0.1106 - accuracy: 0.9557 - val_loss: 0.2065 - val_accuracy: 0.9227\n",
      "Epoch 20/50\n",
      "55/55 [==============================] - 0s 2ms/step - loss: 0.1468 - accuracy: 0.9500 - val_loss: 0.1699 - val_accuracy: 0.9250\n",
      "Epoch 21/50\n",
      "55/55 [==============================] - 0s 2ms/step - loss: 0.1040 - accuracy: 0.9631 - val_loss: 0.1852 - val_accuracy: 0.9318\n",
      "Epoch 22/50\n",
      "55/55 [==============================] - 0s 2ms/step - loss: 0.1081 - accuracy: 0.9608 - val_loss: 0.1799 - val_accuracy: 0.9250\n",
      "Epoch 23/50\n",
      "55/55 [==============================] - 0s 2ms/step - loss: 0.0960 - accuracy: 0.9585 - val_loss: 0.1519 - val_accuracy: 0.9386\n",
      "Epoch 24/50\n",
      "55/55 [==============================] - 0s 2ms/step - loss: 0.0925 - accuracy: 0.9619 - val_loss: 0.1496 - val_accuracy: 0.9341\n",
      "Epoch 25/50\n",
      "55/55 [==============================] - 0s 2ms/step - loss: 0.0936 - accuracy: 0.9642 - val_loss: 0.2263 - val_accuracy: 0.9364\n",
      "Epoch 26/50\n",
      "55/55 [==============================] - 0s 2ms/step - loss: 0.1253 - accuracy: 0.9534 - val_loss: 0.1965 - val_accuracy: 0.9295\n",
      "Epoch 27/50\n",
      "55/55 [==============================] - 0s 2ms/step - loss: 0.1028 - accuracy: 0.9597 - val_loss: 0.1621 - val_accuracy: 0.9409\n",
      "Epoch 28/50\n",
      "55/55 [==============================] - 0s 2ms/step - loss: 0.0800 - accuracy: 0.9727 - val_loss: 0.1425 - val_accuracy: 0.9455\n",
      "Epoch 29/50\n",
      "55/55 [==============================] - 0s 2ms/step - loss: 0.0929 - accuracy: 0.9642 - val_loss: 0.1092 - val_accuracy: 0.9523\n",
      "Epoch 30/50\n",
      "55/55 [==============================] - 0s 2ms/step - loss: 0.0918 - accuracy: 0.9648 - val_loss: 0.1503 - val_accuracy: 0.9318\n",
      "Epoch 31/50\n",
      "55/55 [==============================] - 0s 2ms/step - loss: 0.1741 - accuracy: 0.9426 - val_loss: 0.2129 - val_accuracy: 0.9295\n",
      "Epoch 32/50\n",
      "55/55 [==============================] - 0s 2ms/step - loss: 0.1312 - accuracy: 0.9534 - val_loss: 0.1334 - val_accuracy: 0.9523\n",
      "Epoch 33/50\n",
      "55/55 [==============================] - 0s 2ms/step - loss: 0.0818 - accuracy: 0.9744 - val_loss: 0.1454 - val_accuracy: 0.9273\n",
      "Epoch 34/50\n",
      "55/55 [==============================] - 0s 2ms/step - loss: 0.0827 - accuracy: 0.9670 - val_loss: 0.1086 - val_accuracy: 0.9636\n",
      "Epoch 35/50\n",
      "55/55 [==============================] - 0s 2ms/step - loss: 0.0844 - accuracy: 0.9682 - val_loss: 0.1610 - val_accuracy: 0.9432\n",
      "Epoch 36/50\n",
      "55/55 [==============================] - 0s 2ms/step - loss: 0.0997 - accuracy: 0.9614 - val_loss: 0.1615 - val_accuracy: 0.9432\n",
      "Epoch 37/50\n",
      "55/55 [==============================] - 0s 2ms/step - loss: 0.0808 - accuracy: 0.9739 - val_loss: 0.1294 - val_accuracy: 0.9545\n",
      "Epoch 38/50\n",
      "55/55 [==============================] - 0s 2ms/step - loss: 0.0860 - accuracy: 0.9659 - val_loss: 0.1326 - val_accuracy: 0.9386\n",
      "Epoch 39/50\n",
      "55/55 [==============================] - 0s 2ms/step - loss: 0.0952 - accuracy: 0.9636 - val_loss: 0.1425 - val_accuracy: 0.9500\n",
      "Epoch 40/50\n",
      "55/55 [==============================] - 0s 2ms/step - loss: 0.0733 - accuracy: 0.9722 - val_loss: 0.1220 - val_accuracy: 0.9409\n",
      "Epoch 41/50\n",
      "55/55 [==============================] - 0s 2ms/step - loss: 0.0786 - accuracy: 0.9699 - val_loss: 0.1390 - val_accuracy: 0.9386\n",
      "Epoch 42/50\n",
      "55/55 [==============================] - 0s 2ms/step - loss: 0.0681 - accuracy: 0.9733 - val_loss: 0.1318 - val_accuracy: 0.9568\n",
      "Epoch 43/50\n",
      "55/55 [==============================] - 0s 2ms/step - loss: 0.0795 - accuracy: 0.9659 - val_loss: 0.1436 - val_accuracy: 0.9295\n",
      "Epoch 44/50\n",
      "55/55 [==============================] - 0s 2ms/step - loss: 0.0815 - accuracy: 0.9676 - val_loss: 0.1382 - val_accuracy: 0.9341\n",
      "Epoch 45/50\n",
      "55/55 [==============================] - 0s 2ms/step - loss: 0.0603 - accuracy: 0.9773 - val_loss: 0.1135 - val_accuracy: 0.9591\n",
      "Epoch 46/50\n",
      "55/55 [==============================] - 0s 2ms/step - loss: 0.0675 - accuracy: 0.9722 - val_loss: 0.1598 - val_accuracy: 0.9500\n",
      "Epoch 47/50\n",
      "55/55 [==============================] - 0s 2ms/step - loss: 0.0813 - accuracy: 0.9699 - val_loss: 0.1310 - val_accuracy: 0.9455\n",
      "Epoch 48/50\n",
      "55/55 [==============================] - 0s 2ms/step - loss: 0.0672 - accuracy: 0.9756 - val_loss: 0.2361 - val_accuracy: 0.9318\n",
      "Epoch 49/50\n",
      "55/55 [==============================] - 0s 2ms/step - loss: 0.0846 - accuracy: 0.9688 - val_loss: 0.1238 - val_accuracy: 0.9523\n",
      "Epoch 50/50\n",
      "55/55 [==============================] - 0s 2ms/step - loss: 0.0781 - accuracy: 0.9733 - val_loss: 0.1395 - val_accuracy: 0.9545\n"
     ]
    },
    {
     "data": {
      "text/plain": [
       "<keras.callbacks.History at 0x2f15786fdf0>"
      ]
     },
     "execution_count": 20,
     "metadata": {},
     "output_type": "execute_result"
    }
   ],
   "source": [
    "# Train the model\n",
    "model.fit(X_train, y_train, epochs=50, batch_size=32, validation_data=(X_test, y_test))"
   ]
  },
  {
   "cell_type": "code",
   "execution_count": 21,
   "metadata": {},
   "outputs": [
    {
     "name": "stdout",
     "output_type": "stream",
     "text": [
      "14/14 [==============================] - 0s 1ms/step - loss: 0.1395 - accuracy: 0.9545\n",
      "Test Loss: 0.13953270018100739\n",
      "Test Accuracy: 0.9545454382896423\n"
     ]
    }
   ],
   "source": [
    "# Evaluate the model on test data\n",
    "loss, accuracy = model.evaluate(X_test, y_test)\n",
    "\n",
    "print(\"Test Loss:\", loss)\n",
    "print(\"Test Accuracy:\", accuracy)"
   ]
  },
  {
   "cell_type": "code",
   "execution_count": 29,
   "metadata": {},
   "outputs": [
    {
     "name": "stdout",
     "output_type": "stream",
     "text": [
      "1/1 [==============================] - 0s 23ms/step\n"
     ]
    }
   ],
   "source": [
    "# Predict the top 10 crops for new input parameters\n",
    "a = [[10,25,60,10,80,7,200]]\n",
    "new_data = np.array(a) # the place where input from the frontend should be done.\n",
    "predictions = model.predict(new_data)\n",
    "top_10_crops = (-predictions[0]).argsort()[:10]"
   ]
  },
  {
   "cell_type": "code",
   "execution_count": 30,
   "metadata": {},
   "outputs": [
    {
     "name": "stdout",
     "output_type": "stream",
     "text": [
      "Top 10 Crops: ['coconut', 'pomegranate', 'papaya', 'grapes', 'rice', 'jute', 'mango', 'coffee', 'chickpea', 'orange']\n"
     ]
    }
   ],
   "source": [
    "# Map label indices to label names\n",
    "top_10_crops_names = [label_map[i] for i in top_10_crops]\n",
    "print(\"Top 10 Crops:\", top_10_crops_names)"
   ]
  },
  {
   "cell_type": "code",
   "execution_count": null,
   "metadata": {},
   "outputs": [],
   "source": []
  },
  {
   "cell_type": "code",
   "execution_count": null,
   "metadata": {},
   "outputs": [],
   "source": []
  },
  {
   "cell_type": "code",
   "execution_count": null,
   "metadata": {},
   "outputs": [],
   "source": []
  },
  {
   "cell_type": "code",
   "execution_count": null,
   "metadata": {},
   "outputs": [],
   "source": []
  }
 ],
 "metadata": {
  "kernelspec": {
   "display_name": "Python 3",
   "language": "python",
   "name": "python3"
  },
  "language_info": {
   "codemirror_mode": {
    "name": "ipython",
    "version": 3
   },
   "file_extension": ".py",
   "mimetype": "text/x-python",
   "name": "python",
   "nbconvert_exporter": "python",
   "pygments_lexer": "ipython3",
   "version": "3.10.6"
  },
  "orig_nbformat": 4
 },
 "nbformat": 4,
 "nbformat_minor": 2
}
